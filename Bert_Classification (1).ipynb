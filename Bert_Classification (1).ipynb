{
  "nbformat": 4,
  "nbformat_minor": 0,
  "metadata": {
    "colab": {
      "name": "Bert Classification.ipynb",
      "provenance": [],
      "collapsed_sections": []
    },
    "kernelspec": {
      "name": "python3",
      "display_name": "Python 3"
    },
    "language_info": {
      "name": "python"
    }
  },
  "cells": [
    {
      "cell_type": "markdown",
      "source": [
        "Bert Classification using TFBertForSequenceClassification"
      ],
      "metadata": {
        "id": "qIn36m8zuFHR"
      }
    },
    {
      "cell_type": "code",
      "source": [
        "import numpy as np \n",
        "import pandas as pd \n",
        "import random as rn\n",
        "import matplotlib.pyplot as plt\n",
        "from matplotlib.ticker import MaxNLocator\n",
        "import seaborn as sns\n",
        "import os\n",
        "os.environ['TF_CPP_MIN_LOG_LEVEL'] = '3' "
      ],
      "metadata": {
        "id": "nZmvJnzk6xVy"
      },
      "execution_count": null,
      "outputs": []
    },
    {
      "cell_type": "code",
      "source": [
        "from sklearn.model_selection import train_test_split\n",
        "from sklearn.metrics import confusion_matrix, classification_report\n",
        "\n",
        "import tensorflow as tf\n",
        "from tensorflow.keras.preprocessing.text import Tokenizer\n",
        "from tensorflow.keras.preprocessing.sequence import pad_sequences\n",
        "from tensorflow.keras.losses import SparseCategoricalCrossentropy\n",
        "from tensorflow.keras.layers import Dense, Input\n",
        "from tensorflow.keras.optimizers import Adam\n",
        "from tensorflow.keras.models import Model\n",
        "from tensorflow.keras.callbacks import ModelCheckpoint\n",
        "from tokenizers import BertWordPieceTokenizer\n",
        "\n",
        "import transformers\n",
        "from transformers import BertTokenizer, TFBertForSequenceClassification\n",
        "from transformers import InputExample, InputFeatures\n",
        "\n",
        "import logging\n",
        "transformers.logging.set_verbosity_error()\n",
        "# logging.getLogger(\"tensorflow\").setLevel(logging.WARNING)\n",
        "\n"
      ],
      "metadata": {
        "id": "ySTXF4ZB621X"
      },
      "execution_count": null,
      "outputs": []
    },
    {
      "cell_type": "code",
      "source": [
        "df_reviews = pd.read_csv('game_train.csv')\n",
        "df_reviews.head()"
      ],
      "metadata": {
        "colab": {
          "base_uri": "https://localhost:8080/",
          "height": 206
        },
        "id": "EdDyddpVY5xI",
        "outputId": "099a3c4f-020b-4385-b6d2-a30b26bac408"
      },
      "execution_count": null,
      "outputs": [
        {
          "output_type": "execute_result",
          "data": {
            "text/plain": [
              "   review_id                        title    year  \\\n",
              "0        473               Sakura Clicker  2017.0   \n",
              "1      22971  Crusaders of the Lost Idols  2017.0   \n",
              "2      18225   RaceRoom Racing Experience  2014.0   \n",
              "3      17132                  Black Squad  2018.0   \n",
              "4       8103      DCS World Steam Edition  2014.0   \n",
              "\n",
              "                                         user_review  user_suggestion  \n",
              "0  This has helped me through my stage 8 terminal...                1  \n",
              "1  Awesome idea. I support this game. I love that...                1  \n",
              "2  This game is just, such a♥♥♥♥♥♥take. The devel...                0  \n",
              "3  Early Access Reviewhere what i honesty think a...                1  \n",
              "4  Very detailed sim and a joy to fly using a fli...                1  "
            ],
            "text/html": [
              "\n",
              "  <div id=\"df-5a2684f5-195e-4f96-8d60-db23dede4715\">\n",
              "    <div class=\"colab-df-container\">\n",
              "      <div>\n",
              "<style scoped>\n",
              "    .dataframe tbody tr th:only-of-type {\n",
              "        vertical-align: middle;\n",
              "    }\n",
              "\n",
              "    .dataframe tbody tr th {\n",
              "        vertical-align: top;\n",
              "    }\n",
              "\n",
              "    .dataframe thead th {\n",
              "        text-align: right;\n",
              "    }\n",
              "</style>\n",
              "<table border=\"1\" class=\"dataframe\">\n",
              "  <thead>\n",
              "    <tr style=\"text-align: right;\">\n",
              "      <th></th>\n",
              "      <th>review_id</th>\n",
              "      <th>title</th>\n",
              "      <th>year</th>\n",
              "      <th>user_review</th>\n",
              "      <th>user_suggestion</th>\n",
              "    </tr>\n",
              "  </thead>\n",
              "  <tbody>\n",
              "    <tr>\n",
              "      <th>0</th>\n",
              "      <td>473</td>\n",
              "      <td>Sakura Clicker</td>\n",
              "      <td>2017.0</td>\n",
              "      <td>This has helped me through my stage 8 terminal...</td>\n",
              "      <td>1</td>\n",
              "    </tr>\n",
              "    <tr>\n",
              "      <th>1</th>\n",
              "      <td>22971</td>\n",
              "      <td>Crusaders of the Lost Idols</td>\n",
              "      <td>2017.0</td>\n",
              "      <td>Awesome idea. I support this game. I love that...</td>\n",
              "      <td>1</td>\n",
              "    </tr>\n",
              "    <tr>\n",
              "      <th>2</th>\n",
              "      <td>18225</td>\n",
              "      <td>RaceRoom Racing Experience</td>\n",
              "      <td>2014.0</td>\n",
              "      <td>This game is just, such a♥♥♥♥♥♥take. The devel...</td>\n",
              "      <td>0</td>\n",
              "    </tr>\n",
              "    <tr>\n",
              "      <th>3</th>\n",
              "      <td>17132</td>\n",
              "      <td>Black Squad</td>\n",
              "      <td>2018.0</td>\n",
              "      <td>Early Access Reviewhere what i honesty think a...</td>\n",
              "      <td>1</td>\n",
              "    </tr>\n",
              "    <tr>\n",
              "      <th>4</th>\n",
              "      <td>8103</td>\n",
              "      <td>DCS World Steam Edition</td>\n",
              "      <td>2014.0</td>\n",
              "      <td>Very detailed sim and a joy to fly using a fli...</td>\n",
              "      <td>1</td>\n",
              "    </tr>\n",
              "  </tbody>\n",
              "</table>\n",
              "</div>\n",
              "      <button class=\"colab-df-convert\" onclick=\"convertToInteractive('df-5a2684f5-195e-4f96-8d60-db23dede4715')\"\n",
              "              title=\"Convert this dataframe to an interactive table.\"\n",
              "              style=\"display:none;\">\n",
              "        \n",
              "  <svg xmlns=\"http://www.w3.org/2000/svg\" height=\"24px\"viewBox=\"0 0 24 24\"\n",
              "       width=\"24px\">\n",
              "    <path d=\"M0 0h24v24H0V0z\" fill=\"none\"/>\n",
              "    <path d=\"M18.56 5.44l.94 2.06.94-2.06 2.06-.94-2.06-.94-.94-2.06-.94 2.06-2.06.94zm-11 1L8.5 8.5l.94-2.06 2.06-.94-2.06-.94L8.5 2.5l-.94 2.06-2.06.94zm10 10l.94 2.06.94-2.06 2.06-.94-2.06-.94-.94-2.06-.94 2.06-2.06.94z\"/><path d=\"M17.41 7.96l-1.37-1.37c-.4-.4-.92-.59-1.43-.59-.52 0-1.04.2-1.43.59L10.3 9.45l-7.72 7.72c-.78.78-.78 2.05 0 2.83L4 21.41c.39.39.9.59 1.41.59.51 0 1.02-.2 1.41-.59l7.78-7.78 2.81-2.81c.8-.78.8-2.07 0-2.86zM5.41 20L4 18.59l7.72-7.72 1.47 1.35L5.41 20z\"/>\n",
              "  </svg>\n",
              "      </button>\n",
              "      \n",
              "  <style>\n",
              "    .colab-df-container {\n",
              "      display:flex;\n",
              "      flex-wrap:wrap;\n",
              "      gap: 12px;\n",
              "    }\n",
              "\n",
              "    .colab-df-convert {\n",
              "      background-color: #E8F0FE;\n",
              "      border: none;\n",
              "      border-radius: 50%;\n",
              "      cursor: pointer;\n",
              "      display: none;\n",
              "      fill: #1967D2;\n",
              "      height: 32px;\n",
              "      padding: 0 0 0 0;\n",
              "      width: 32px;\n",
              "    }\n",
              "\n",
              "    .colab-df-convert:hover {\n",
              "      background-color: #E2EBFA;\n",
              "      box-shadow: 0px 1px 2px rgba(60, 64, 67, 0.3), 0px 1px 3px 1px rgba(60, 64, 67, 0.15);\n",
              "      fill: #174EA6;\n",
              "    }\n",
              "\n",
              "    [theme=dark] .colab-df-convert {\n",
              "      background-color: #3B4455;\n",
              "      fill: #D2E3FC;\n",
              "    }\n",
              "\n",
              "    [theme=dark] .colab-df-convert:hover {\n",
              "      background-color: #434B5C;\n",
              "      box-shadow: 0px 1px 3px 1px rgba(0, 0, 0, 0.15);\n",
              "      filter: drop-shadow(0px 1px 2px rgba(0, 0, 0, 0.3));\n",
              "      fill: #FFFFFF;\n",
              "    }\n",
              "  </style>\n",
              "\n",
              "      <script>\n",
              "        const buttonEl =\n",
              "          document.querySelector('#df-5a2684f5-195e-4f96-8d60-db23dede4715 button.colab-df-convert');\n",
              "        buttonEl.style.display =\n",
              "          google.colab.kernel.accessAllowed ? 'block' : 'none';\n",
              "\n",
              "        async function convertToInteractive(key) {\n",
              "          const element = document.querySelector('#df-5a2684f5-195e-4f96-8d60-db23dede4715');\n",
              "          const dataTable =\n",
              "            await google.colab.kernel.invokeFunction('convertToInteractive',\n",
              "                                                     [key], {});\n",
              "          if (!dataTable) return;\n",
              "\n",
              "          const docLinkHtml = 'Like what you see? Visit the ' +\n",
              "            '<a target=\"_blank\" href=https://colab.research.google.com/notebooks/data_table.ipynb>data table notebook</a>'\n",
              "            + ' to learn more about interactive tables.';\n",
              "          element.innerHTML = '';\n",
              "          dataTable['output_type'] = 'display_data';\n",
              "          await google.colab.output.renderOutput(dataTable, element);\n",
              "          const docLink = document.createElement('div');\n",
              "          docLink.innerHTML = docLinkHtml;\n",
              "          element.appendChild(docLink);\n",
              "        }\n",
              "      </script>\n",
              "    </div>\n",
              "  </div>\n",
              "  "
            ]
          },
          "metadata": {},
          "execution_count": 3
        }
      ]
    },
    {
      "cell_type": "markdown",
      "source": [
        "Data preprocessing: Changing text to string, remove Early Access Reviews, drop the review will null scores and split the dataset into train, validation and holdout sets."
      ],
      "metadata": {
        "id": "zXcQWegbukXt"
      }
    },
    {
      "cell_type": "code",
      "source": [
        "df_reviews = df_reviews[df_reviews.user_review.str.strip() != 'Early Access Review']\n",
        "df_reviews.shape"
      ],
      "metadata": {
        "colab": {
          "base_uri": "https://localhost:8080/"
        },
        "id": "iJccNVeSZITB",
        "outputId": "f38606c6-f64d-46d4-deaf-02840e5b9133"
      },
      "execution_count": null,
      "outputs": [
        {
          "output_type": "execute_result",
          "data": {
            "text/plain": [
              "(10494, 5)"
            ]
          },
          "metadata": {},
          "execution_count": 4
        }
      ]
    },
    {
      "cell_type": "code",
      "source": [
        "# convert review text to string\n",
        "df_reviews[\"user_review\"] = df_reviews[\"user_review\"].astype(str)\n",
        "df_reviews.user_review = df_reviews.user_review.apply(lambda s: s.strip())\n",
        "\n",
        "# drop the reviews with null score\n",
        "df_reviews_2 = df_reviews[~df_reviews.user_review.isin(['nan'])]\n",
        "df_reviews_2.drop_duplicates(['user_review', 'user_suggestion'], inplace = True)\n",
        "print(df_reviews_2.shape)\n",
        "\n",
        "df_reviews_2[\"user_suggestion\"].value_counts()"
      ],
      "metadata": {
        "colab": {
          "base_uri": "https://localhost:8080/"
        },
        "id": "0vBZ7Z3DZIyW",
        "outputId": "fd31a015-c8ef-4080-bf76-c42858d78f8c"
      },
      "execution_count": null,
      "outputs": [
        {
          "output_type": "stream",
          "name": "stdout",
          "text": [
            "(10494, 5)\n"
          ]
        },
        {
          "output_type": "execute_result",
          "data": {
            "text/plain": [
              "1    5986\n",
              "0    4508\n",
              "Name: user_suggestion, dtype: int64"
            ]
          },
          "metadata": {},
          "execution_count": 5
        }
      ]
    },
    {
      "cell_type": "code",
      "source": [
        "import re\n",
        "\n",
        "# replace ♥\n",
        "def replace_hearts_with_PAD(text):\n",
        "    return re.sub(r\"[♥]+\", ' **** ' ,text)\n",
        "\n",
        "df_reviews_2['user_review'] = df_reviews_2.user_review.apply(replace_hearts_with_PAD)\n",
        "\n",
        "reviews = df_reviews_2[\"user_review\"].values.tolist()\n",
        "labels = df_reviews_2[\"user_suggestion\"].tolist()"
      ],
      "metadata": {
        "id": "PTYki_MbZJEx"
      },
      "execution_count": null,
      "outputs": []
    },
    {
      "cell_type": "code",
      "source": [
        "# split the dataset into train, validation and holdout sets (60-20-20)\n",
        "training_sentences, test_sentences, training_labels, test_labels = train_test_split(reviews, labels, test_size=.4)"
      ],
      "metadata": {
        "id": "SIPm1tsZbwyW"
      },
      "execution_count": null,
      "outputs": []
    },
    {
      "cell_type": "markdown",
      "source": [
        "Sentiment Classification with BERT: we used BertTokenizer and TFBertForSequenceClassification from 'bert-base-cased'."
      ],
      "metadata": {
        "id": "AoyG2ZRMb-J1"
      }
    },
    {
      "cell_type": "code",
      "source": [
        "# BERT tokenizer\n",
        "tokenizer = BertTokenizer.from_pretrained('bert-base-cased')"
      ],
      "metadata": {
        "id": "ZuryMcJYb2pN"
      },
      "execution_count": null,
      "outputs": []
    },
    {
      "cell_type": "code",
      "source": [
        "# example of the output of the tokenizer: \n",
        "tokenizer([training_sentences[0]], truncation=True,\n",
        "                            padding=True, max_length=512)\n"
      ],
      "metadata": {
        "colab": {
          "base_uri": "https://localhost:8080/"
        },
        "id": "OGFXo-_OcDvh",
        "outputId": "4c507dff-8a4f-4604-83b1-d9f667fada72"
      },
      "execution_count": null,
      "outputs": [
        {
          "output_type": "execute_result",
          "data": {
            "text/plain": [
              "{'input_ids': [[101, 4503, 11737, 4960, 1708, 1186, 146, 1309, 2140, 1354, 146, 112, 173, 1176, 1126, 3294, 3621, 1342, 119, 146, 1108, 1579, 1702, 1120, 1122, 1115, 1115, 4106, 1104, 1773, 170, 3621, 1342, 1110, 27799, 2716, 4353, 1106, 2520, 1106, 1103, 1825, 1506, 1103, 1952, 1121, 1128, 117, 1120, 1655, 1111, 1143, 119, 1409, 1178, 1177, 1128, 1169, 4137, 3451, 10049, 1105, 179, 1389, 3781, 9304, 5773, 1128, 1508, 1487, 119, 1252, 1114, 1103, 1342, 1217, 1714, 117, 146, 1879, 1106, 1660, 1142, 1141, 170, 2046, 117, 1105, 1122, 112, 188, 7284, 7310, 119, 1188, 1110, 1103, 13710, 1104, 1800, 1150, 1215, 1106, 1505, 6734, 131, 1109, 26532, 117, 1133, 8186, 112, 189, 1541, 1125, 1103, 1159, 1106, 6799, 1122, 1290, 6282, 1344, 21050, 117, 1105, 1150, 1541, 117, 2276, 1193, 7871, 1459, 5426, 22444, 131, 146, 1567, 1142, 1342, 1170, 1178, 170, 1374, 2005, 117, 1105, 146, 1138, 1185, 2255, 1106, 2059, 1122, 112, 188, 1280, 1106, 3968, 1228, 119, 146, 112, 182, 7688, 15604, 21155, 1174, 1106, 1505, 1167, 1104, 1142, 117, 1142, 1342, 1110, 4105, 119, 18269, 131, 5823, 6358, 170, 1374, 1167, 2005, 1107, 117, 1175, 1138, 1151, 1167, 13175, 1105, 13900, 117, 1133, 146, 1225, 9304, 5773, 1141, 179, 1389, 3781, 5579, 1115, 1400, 1143, 5574, 1299, 22950, 2716, 1111, 170, 1554, 2517, 1115, 1103, 1645, 1195, 7912, 1281, 1638, 117, 1134, 1108, 170, 9232, 119, 4209, 1515, 170, 1632, 1159, 119, 20380, 3166, 1112, 4106, 1105, 5426, 1112, 1363, 6734, 1638, 117, 1175, 112, 188, 170, 2785, 17351, 18011, 1106, 1505, 1222, 19016, 1191, 1128, 4597, 112, 189, 1112, 3888, 1107, 4845, 3946, 1505, 117, 1105, 1103, 158, 2240, 1110, 4044, 1105, 16715, 1105, 13247, 119, 1109, 139, 6592, 1116, 1757, 2235, 117, 1112, 1128, 1431, 1129, 1702, 1120, 1115, 1107, 1251, 1714, 118, 1106, 118, 1505, 1342, 117, 3093, 1176, 1103, 1211, 26181, 19773, 14850, 1683, 1104, 2530, 21362, 2349, 17466, 1115, 1128, 1169, 2367, 1111, 1443, 3525, 1111, 170, 3718, 2319, 119, 146, 3983, 112, 189, 1508, 1948, 1107, 1870, 117, 1105, 146, 1640, 1138, 2469, 1106, 1536, 4802, 1115, 146, 112, 182, 1515, 4106, 23800, 22444, 117, 1105, 1272, 1152, 1519, 1128, 1712, 4802, 1121, 5039, 1116, 117, 146, 1169, 4607, 1139, 2436, 115, 1118, 115, 1773, 4106, 1638, 119, 113, 3956, 117, 146, 4819, 5039, 117, 1133, 146, 112, 182, 17517, 2218, 1115, 112, 188, 170, 2463, 1113, 1139, 1322, 117, 1136, 1103, 1342, 112, 188, 119, 114, 146, 112, 182, 2816, 146, 1400, 1154, 1142, 1939, 1104, 4641, 9524, 4793, 117, 1519, 112, 188, 1508, 1122, 1115, 20294, 1193, 119, 1409, 1128, 112, 1231, 1440, 1394, 112, 1111, 170, 3621, 1342, 117, 12706, 1154, 1142, 1141, 1111, 170, 2113, 1105, 1267, 1191, 1122, 112, 188, 1184, 1128, 1328, 119, 25120, 1692, 117, 1128, 1505, 1213, 117, 4511, 1720, 117, 1105, 1301, 6890, 119, 102]], 'token_type_ids': [[0, 0, 0, 0, 0, 0, 0, 0, 0, 0, 0, 0, 0, 0, 0, 0, 0, 0, 0, 0, 0, 0, 0, 0, 0, 0, 0, 0, 0, 0, 0, 0, 0, 0, 0, 0, 0, 0, 0, 0, 0, 0, 0, 0, 0, 0, 0, 0, 0, 0, 0, 0, 0, 0, 0, 0, 0, 0, 0, 0, 0, 0, 0, 0, 0, 0, 0, 0, 0, 0, 0, 0, 0, 0, 0, 0, 0, 0, 0, 0, 0, 0, 0, 0, 0, 0, 0, 0, 0, 0, 0, 0, 0, 0, 0, 0, 0, 0, 0, 0, 0, 0, 0, 0, 0, 0, 0, 0, 0, 0, 0, 0, 0, 0, 0, 0, 0, 0, 0, 0, 0, 0, 0, 0, 0, 0, 0, 0, 0, 0, 0, 0, 0, 0, 0, 0, 0, 0, 0, 0, 0, 0, 0, 0, 0, 0, 0, 0, 0, 0, 0, 0, 0, 0, 0, 0, 0, 0, 0, 0, 0, 0, 0, 0, 0, 0, 0, 0, 0, 0, 0, 0, 0, 0, 0, 0, 0, 0, 0, 0, 0, 0, 0, 0, 0, 0, 0, 0, 0, 0, 0, 0, 0, 0, 0, 0, 0, 0, 0, 0, 0, 0, 0, 0, 0, 0, 0, 0, 0, 0, 0, 0, 0, 0, 0, 0, 0, 0, 0, 0, 0, 0, 0, 0, 0, 0, 0, 0, 0, 0, 0, 0, 0, 0, 0, 0, 0, 0, 0, 0, 0, 0, 0, 0, 0, 0, 0, 0, 0, 0, 0, 0, 0, 0, 0, 0, 0, 0, 0, 0, 0, 0, 0, 0, 0, 0, 0, 0, 0, 0, 0, 0, 0, 0, 0, 0, 0, 0, 0, 0, 0, 0, 0, 0, 0, 0, 0, 0, 0, 0, 0, 0, 0, 0, 0, 0, 0, 0, 0, 0, 0, 0, 0, 0, 0, 0, 0, 0, 0, 0, 0, 0, 0, 0, 0, 0, 0, 0, 0, 0, 0, 0, 0, 0, 0, 0, 0, 0, 0, 0, 0, 0, 0, 0, 0, 0, 0, 0, 0, 0, 0, 0, 0, 0, 0, 0, 0, 0, 0, 0, 0, 0, 0, 0, 0, 0, 0, 0, 0, 0, 0, 0, 0, 0, 0, 0, 0, 0, 0, 0, 0, 0, 0, 0, 0, 0, 0, 0, 0, 0, 0, 0, 0, 0, 0, 0, 0, 0, 0, 0, 0, 0, 0, 0, 0, 0, 0, 0, 0, 0, 0, 0, 0, 0, 0, 0, 0, 0, 0, 0, 0, 0, 0, 0, 0, 0, 0, 0, 0, 0, 0, 0, 0, 0, 0, 0, 0, 0, 0, 0, 0, 0, 0, 0, 0, 0, 0, 0, 0, 0, 0, 0, 0, 0, 0, 0, 0, 0, 0, 0, 0, 0, 0, 0, 0, 0, 0, 0, 0, 0, 0, 0, 0, 0, 0, 0, 0, 0, 0, 0, 0, 0, 0, 0, 0]], 'attention_mask': [[1, 1, 1, 1, 1, 1, 1, 1, 1, 1, 1, 1, 1, 1, 1, 1, 1, 1, 1, 1, 1, 1, 1, 1, 1, 1, 1, 1, 1, 1, 1, 1, 1, 1, 1, 1, 1, 1, 1, 1, 1, 1, 1, 1, 1, 1, 1, 1, 1, 1, 1, 1, 1, 1, 1, 1, 1, 1, 1, 1, 1, 1, 1, 1, 1, 1, 1, 1, 1, 1, 1, 1, 1, 1, 1, 1, 1, 1, 1, 1, 1, 1, 1, 1, 1, 1, 1, 1, 1, 1, 1, 1, 1, 1, 1, 1, 1, 1, 1, 1, 1, 1, 1, 1, 1, 1, 1, 1, 1, 1, 1, 1, 1, 1, 1, 1, 1, 1, 1, 1, 1, 1, 1, 1, 1, 1, 1, 1, 1, 1, 1, 1, 1, 1, 1, 1, 1, 1, 1, 1, 1, 1, 1, 1, 1, 1, 1, 1, 1, 1, 1, 1, 1, 1, 1, 1, 1, 1, 1, 1, 1, 1, 1, 1, 1, 1, 1, 1, 1, 1, 1, 1, 1, 1, 1, 1, 1, 1, 1, 1, 1, 1, 1, 1, 1, 1, 1, 1, 1, 1, 1, 1, 1, 1, 1, 1, 1, 1, 1, 1, 1, 1, 1, 1, 1, 1, 1, 1, 1, 1, 1, 1, 1, 1, 1, 1, 1, 1, 1, 1, 1, 1, 1, 1, 1, 1, 1, 1, 1, 1, 1, 1, 1, 1, 1, 1, 1, 1, 1, 1, 1, 1, 1, 1, 1, 1, 1, 1, 1, 1, 1, 1, 1, 1, 1, 1, 1, 1, 1, 1, 1, 1, 1, 1, 1, 1, 1, 1, 1, 1, 1, 1, 1, 1, 1, 1, 1, 1, 1, 1, 1, 1, 1, 1, 1, 1, 1, 1, 1, 1, 1, 1, 1, 1, 1, 1, 1, 1, 1, 1, 1, 1, 1, 1, 1, 1, 1, 1, 1, 1, 1, 1, 1, 1, 1, 1, 1, 1, 1, 1, 1, 1, 1, 1, 1, 1, 1, 1, 1, 1, 1, 1, 1, 1, 1, 1, 1, 1, 1, 1, 1, 1, 1, 1, 1, 1, 1, 1, 1, 1, 1, 1, 1, 1, 1, 1, 1, 1, 1, 1, 1, 1, 1, 1, 1, 1, 1, 1, 1, 1, 1, 1, 1, 1, 1, 1, 1, 1, 1, 1, 1, 1, 1, 1, 1, 1, 1, 1, 1, 1, 1, 1, 1, 1, 1, 1, 1, 1, 1, 1, 1, 1, 1, 1, 1, 1, 1, 1, 1, 1, 1, 1, 1, 1, 1, 1, 1, 1, 1, 1, 1, 1, 1, 1, 1, 1, 1, 1, 1, 1, 1, 1, 1, 1, 1, 1, 1, 1, 1, 1, 1, 1, 1, 1, 1, 1, 1, 1, 1, 1, 1, 1, 1, 1, 1, 1, 1, 1, 1, 1, 1, 1, 1, 1, 1, 1, 1, 1, 1, 1, 1, 1, 1, 1, 1]]}"
            ]
          },
          "metadata": {},
          "execution_count": 9
        }
      ]
    },
    {
      "cell_type": "code",
      "source": [
        "# tokenize training and validation sentences\n",
        "train_encodings = tokenizer(training_sentences,\n",
        "                            truncation=True,\n",
        "                            padding=True)\n",
        "\n",
        "test_encodings = tokenizer(test_sentences,\n",
        "                            truncation=True,\n",
        "                            padding=True)"
      ],
      "metadata": {
        "id": "Q7VNhwDLcD8i"
      },
      "execution_count": null,
      "outputs": []
    },
    {
      "cell_type": "code",
      "source": [
        "# convert the input encodings and labels into a TensorFlow Dataset object\n",
        "train_dataset = tf.data.Dataset.from_tensor_slices((\n",
        "                            dict(train_encodings),\n",
        "                            training_labels\n",
        "                            ));\n",
        "\n",
        "test_dataset = tf.data.Dataset.from_tensor_slices((\n",
        "                            dict(test_encodings),\n",
        "                            test_labels\n",
        "                            ));"
      ],
      "metadata": {
        "id": "pLib5H6-cLEl"
      },
      "execution_count": null,
      "outputs": []
    },
    {
      "cell_type": "markdown",
      "source": [
        "Training the model"
      ],
      "metadata": {
        "id": "5S3bMRcscYT_"
      }
    },
    {
      "cell_type": "code",
      "source": [
        "model = TFBertForSequenceClassification.from_pretrained('bert-base-cased',num_labels=2)\n",
        "\n",
        "# create an optimizer and compile the model\n",
        "optimizer = tf.keras.optimizers.Adam(learning_rate=2e-5, epsilon=1e-08)\n",
        "model.compile(optimizer=optimizer, loss=model.compute_loss, metrics=['accuracy'])"
      ],
      "metadata": {
        "id": "Ff_bRV1EcLQD"
      },
      "execution_count": null,
      "outputs": []
    },
    {
      "cell_type": "code",
      "source": [
        "pip install Numpy==1.18.5"
      ],
      "metadata": {
        "id": "Or_vDuhvd-Kv"
      },
      "execution_count": null,
      "outputs": []
    },
    {
      "cell_type": "code",
      "source": [
        "pip install TensorFlow==2.4"
      ],
      "metadata": {
        "id": "OhJ7P5m_itXn"
      },
      "execution_count": null,
      "outputs": []
    },
    {
      "cell_type": "markdown",
      "source": [
        "We set the epochs=2, dont want to spend lots of time on training the model."
      ],
      "metadata": {
        "id": "fxoLNB4Dvnkj"
      }
    },
    {
      "cell_type": "code",
      "source": [
        "# train and fine-tune the model\n",
        "history = model.fit(train_dataset.shuffle(100).batch(8),\n",
        "          epochs=2,\n",
        "          batch_size=8,\n",
        "          validation_data=test_dataset.shuffle(100).batch(8), verbose=1)"
      ],
      "metadata": {
        "colab": {
          "base_uri": "https://localhost:8080/"
        },
        "id": "y-B4wpmVczjD",
        "outputId": "97664880-6286-4f25-bc3a-57617d7fa029"
      },
      "execution_count": null,
      "outputs": [
        {
          "metadata": {
            "tags": null
          },
          "name": "stdout",
          "output_type": "stream",
          "text": [
            "Epoch 1/2\n"
          ]
        },
        {
          "metadata": {
            "tags": null
          },
          "name": "stderr",
          "output_type": "stream",
          "text": [
            "/usr/local/lib/python3.7/dist-packages/tensorflow/python/autograph/impl/api.py:390: FutureWarning: The old compute_loss method is deprecated as it conflicts with the Keras compute_loss method added in TF 2.8. If you want the original HF compute_loss, please call hf_compute_loss() instead. From TF versions >= 2.8, or Transformers versions >= 5, calling compute_loss() will get the Keras method instead.\n",
            "  return py_builtins.overload_of(f)(*args)\n"
          ]
        },
        {
          "output_type": "stream",
          "name": "stdout",
          "text": [
            "357/787 [============>.................] - ETA: 6:25:36 - loss: 0.5133 - accuracy: 0.7345"
          ]
        }
      ]
    },
    {
      "cell_type": "markdown",
      "source": [
        "As we could the first epoch of the model only have 0.7345 accuracy, which is relative low when compare to simple transformer. So we chose to use the trained simple transformer to predict the result. "
      ],
      "metadata": {
        "id": "S9NQZfoyHrbU"
      }
    }
  ]
}